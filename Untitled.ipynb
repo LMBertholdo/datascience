{
 "cells": [
  {
   "cell_type": "code",
   "execution_count": 2,
   "id": "218edc1e-2a98-4ca9-ae0e-78bfb19679f0",
   "metadata": {},
   "outputs": [
    {
     "data": {
      "text/html": [
       "        <script type=\"text/javascript\">\n",
       "        window.PlotlyConfig = {MathJaxConfig: 'local'};\n",
       "        if (window.MathJax && window.MathJax.Hub && window.MathJax.Hub.Config) {window.MathJax.Hub.Config({SVG: {font: \"STIX-Web\"}});}\n",
       "        if (typeof require !== 'undefined') {\n",
       "        require.undef(\"plotly\");\n",
       "        requirejs.config({\n",
       "            paths: {\n",
       "                'plotly': ['https://cdn.plot.ly/plotly-2.16.1.min']\n",
       "            }\n",
       "        });\n",
       "        require(['plotly'], function(Plotly) {\n",
       "            window._Plotly = Plotly;\n",
       "        });\n",
       "        }\n",
       "        </script>\n",
       "        "
      ]
     },
     "metadata": {},
     "output_type": "display_data"
    }
   ],
   "source": [
    "import numpy as np # linear algebra\n",
    "import pandas as pd # data processing, CSV file I/O (e.g. pd.read_csv)\n",
    "\n",
    "from plotly.offline import init_notebook_mode, iplot, plot\n",
    "import plotly as py\n",
    "init_notebook_mode(connected=True)\n",
    "import plotly.graph_objs as go"
   ]
  },
  {
   "cell_type": "code",
   "execution_count": 16,
   "id": "78a221bb-bc9a-4593-954e-9033fe14edc3",
   "metadata": {},
   "outputs": [
    {
     "ename": "SyntaxError",
     "evalue": "non-default argument follows default argument (1491444199.py, line 8)",
     "output_type": "error",
     "traceback": [
      "\u001b[0;36m  Cell \u001b[0;32mIn[16], line 8\u001b[0;36m\u001b[0m\n\u001b[0;31m    def download_and_unzip(url, filename='archive.zip', folder, format=\"ZIP\"):\u001b[0m\n\u001b[0m                           ^\u001b[0m\n\u001b[0;31mSyntaxError\u001b[0m\u001b[0;31m:\u001b[0m non-default argument follows default argument\n"
     ]
    }
   ],
   "source": [
    "import os\n",
    "import zipfile\n",
    "import requests\n",
    "import tarfile\n",
    "import gzip\n",
    "import urllib.parse\n",
    "\n",
    "def download_and_unzip(url, filename='archive.zip', folder, format=\"ZIP\"):\n",
    "    \"\"\"Downloads a ZIP, GZIP, or TAR.GZ file from the specified URL and unzips it to the specified folder.\"\"\"\n",
    "\n",
    "    filename = os.path.basename(url)\n",
    "    if not os.path.exists(folder):\n",
    "        os.makedirs(folder)\n",
    "\n",
    "    # Download the file\n",
    "    response = requests.get(url)\n",
    "    with open(os.path.join(folder, filename), \"wb\") as f:\n",
    "        f.write(response.content)\n",
    "\n",
    "    # Determine the decompression method based on the file format\n",
    "    if format.upper() == \"ZIP\":\n",
    "        decompression_method = zipfile.ZipFile\n",
    "    elif format.upper() == \"GZIP\":\n",
    "        decompression_method = gzip.open\n",
    "    elif format.upper() == \"TAR.GZ\":\n",
    "        decompression_method = tarfile.open\n",
    "    else:\n",
    "        raise ValueError(f\"Unsupported file format: {format}\")\n",
    "\n",
    "    # Extract the file\n",
    "    with decompression_method(os.path.join(folder, filename), \"r:bz2\") as archive:\n",
    "        archive.extractall(folder)\n",
    "\n",
    "    # Remove the downloaded file if not needed\n",
    "    if not format.upper() in (\"ZIP\", \"TAR.GZ\"):\n",
    "        os.remove(os.path.join(folder, filename))\n"
   ]
  },
  {
   "cell_type": "code",
   "execution_count": 27,
   "id": "1c9e39d8-060c-4e05-84b7-79d0f7e824cf",
   "metadata": {},
   "outputs": [],
   "source": [
    "def extract_file(filename, folder, fileformat):\n",
    "    \"\"\"Extracts a ZIP, GZIP, or TAR.GZ file to the specified folder.\"\"\"\n",
    "\n",
    "    # Determine the decompression method based on the file format\n",
    "    if fileformat.upper() == \"ZIP\":\n",
    "        decompression_method = zipfile.ZipFile\n",
    "    elif fileformat.upper() == \"GZIP\":\n",
    "        decompression_method = gzip.open\n",
    "    elif fileformat.upper() == \"TAR.GZ\":\n",
    "        decompression_method = tarfile.open\n",
    "    else:\n",
    "        raise ValueError(f\"Unsupported file format: {fileformat}\")\n",
    "\n",
    "    # Extract the file\n",
    "    with decompression_method(filename, \"r:bz2\") as archive:\n",
    "        archive.extractall(folder)\n",
    "\n",
    "    # Remove the temporary file\n",
    "    os.remove(filename)"
   ]
  },
  {
   "cell_type": "code",
   "execution_count": 28,
   "id": "24adbfd0-065c-40c9-8807-6371c93a5166",
   "metadata": {},
   "outputs": [],
   "source": [
    "import os\n",
    "import zipfile\n",
    "import requests\n",
    "import tarfile\n",
    "import gzip\n",
    "import urllib.parse\n",
    "import tempfile\n"
   ]
  },
  {
   "cell_type": "code",
   "execution_count": 29,
   "id": "03d7cc44-d151-45c8-8a59-a4ea216bf26c",
   "metadata": {},
   "outputs": [
    {
     "ename": "ValueError",
     "evalue": "ZipFile requires mode 'r', 'w', 'x', or 'a'",
     "output_type": "error",
     "traceback": [
      "\u001b[0;31m---------------------------------------------------------------------------\u001b[0m",
      "\u001b[0;31mValueError\u001b[0m                                Traceback (most recent call last)",
      "Cell \u001b[0;32mIn[29], line 12\u001b[0m\n\u001b[1;32m      9\u001b[0m     temp_file\u001b[38;5;241m.\u001b[39mflush()\n\u001b[1;32m     11\u001b[0m \u001b[38;5;66;03m# Extract the file from the temporary file to the specified folder\u001b[39;00m\n\u001b[0;32m---> 12\u001b[0m \u001b[43mextract_file\u001b[49m\u001b[43m(\u001b[49m\u001b[43mtemp_file\u001b[49m\u001b[38;5;241;43m.\u001b[39;49m\u001b[43mname\u001b[49m\u001b[43m,\u001b[49m\u001b[43m \u001b[49m\u001b[43mfolder\u001b[49m\u001b[43m,\u001b[49m\u001b[43m \u001b[49m\u001b[43mfileformat\u001b[49m\u001b[43m)\u001b[49m\n",
      "Cell \u001b[0;32mIn[27], line 15\u001b[0m, in \u001b[0;36mextract_file\u001b[0;34m(filename, folder, fileformat)\u001b[0m\n\u001b[1;32m     12\u001b[0m     \u001b[38;5;28;01mraise\u001b[39;00m \u001b[38;5;167;01mValueError\u001b[39;00m(\u001b[38;5;124mf\u001b[39m\u001b[38;5;124m\"\u001b[39m\u001b[38;5;124mUnsupported file format: \u001b[39m\u001b[38;5;132;01m{\u001b[39;00mfileformat\u001b[38;5;132;01m}\u001b[39;00m\u001b[38;5;124m\"\u001b[39m)\n\u001b[1;32m     14\u001b[0m \u001b[38;5;66;03m# Extract the file\u001b[39;00m\n\u001b[0;32m---> 15\u001b[0m \u001b[38;5;28;01mwith\u001b[39;00m \u001b[43mdecompression_method\u001b[49m\u001b[43m(\u001b[49m\u001b[43mfilename\u001b[49m\u001b[43m,\u001b[49m\u001b[43m \u001b[49m\u001b[38;5;124;43m\"\u001b[39;49m\u001b[38;5;124;43mr:bz2\u001b[39;49m\u001b[38;5;124;43m\"\u001b[39;49m\u001b[43m)\u001b[49m \u001b[38;5;28;01mas\u001b[39;00m archive:\n\u001b[1;32m     16\u001b[0m     archive\u001b[38;5;241m.\u001b[39mextractall(folder)\n\u001b[1;32m     18\u001b[0m \u001b[38;5;66;03m# Remove the temporary file\u001b[39;00m\n",
      "File \u001b[0;32m~/.pyenv/versions/3.8.5/lib/python3.8/zipfile.py:1223\u001b[0m, in \u001b[0;36mZipFile.__init__\u001b[0;34m(self, file, mode, compression, allowZip64, compresslevel, strict_timestamps)\u001b[0m\n\u001b[1;32m   1220\u001b[0m \u001b[38;5;124;03m\"\"\"Open the ZIP file with mode read 'r', write 'w', exclusive create 'x',\u001b[39;00m\n\u001b[1;32m   1221\u001b[0m \u001b[38;5;124;03mor append 'a'.\"\"\"\u001b[39;00m\n\u001b[1;32m   1222\u001b[0m \u001b[38;5;28;01mif\u001b[39;00m mode \u001b[38;5;129;01mnot\u001b[39;00m \u001b[38;5;129;01min\u001b[39;00m (\u001b[38;5;124m'\u001b[39m\u001b[38;5;124mr\u001b[39m\u001b[38;5;124m'\u001b[39m, \u001b[38;5;124m'\u001b[39m\u001b[38;5;124mw\u001b[39m\u001b[38;5;124m'\u001b[39m, \u001b[38;5;124m'\u001b[39m\u001b[38;5;124mx\u001b[39m\u001b[38;5;124m'\u001b[39m, \u001b[38;5;124m'\u001b[39m\u001b[38;5;124ma\u001b[39m\u001b[38;5;124m'\u001b[39m):\n\u001b[0;32m-> 1223\u001b[0m     \u001b[38;5;28;01mraise\u001b[39;00m \u001b[38;5;167;01mValueError\u001b[39;00m(\u001b[38;5;124m\"\u001b[39m\u001b[38;5;124mZipFile requires mode \u001b[39m\u001b[38;5;124m'\u001b[39m\u001b[38;5;124mr\u001b[39m\u001b[38;5;124m'\u001b[39m\u001b[38;5;124m, \u001b[39m\u001b[38;5;124m'\u001b[39m\u001b[38;5;124mw\u001b[39m\u001b[38;5;124m'\u001b[39m\u001b[38;5;124m, \u001b[39m\u001b[38;5;124m'\u001b[39m\u001b[38;5;124mx\u001b[39m\u001b[38;5;124m'\u001b[39m\u001b[38;5;124m, or \u001b[39m\u001b[38;5;124m'\u001b[39m\u001b[38;5;124ma\u001b[39m\u001b[38;5;124m'\u001b[39m\u001b[38;5;124m\"\u001b[39m)\n\u001b[1;32m   1225\u001b[0m _check_compression(compression)\n\u001b[1;32m   1227\u001b[0m \u001b[38;5;28mself\u001b[39m\u001b[38;5;241m.\u001b[39m_allowZip64 \u001b[38;5;241m=\u001b[39m allowZip64\n",
      "\u001b[0;31mValueError\u001b[0m: ZipFile requires mode 'r', 'w', 'x', or 'a'"
     ]
    }
   ],
   "source": [
    "url='https://www.kaggle.com/datasets/guillemservera/global-daily-climate-data/download?datasetVersionNumber=20'\n",
    "folder = 'xxx'\n",
    "fileformat = 'ZIP'\n",
    "with tempfile.NamedTemporaryFile(delete=True) as temp_file:\n",
    "        # Download the file to the temporary file\n",
    "        response = requests.get(url, stream=True)\n",
    "        for chunk in response.iter_content(chunk_size=1024):\n",
    "            temp_file.write(chunk)\n",
    "            temp_file.flush()\n",
    "\n",
    "        # Extract the file from the temporary file to the specified folder\n",
    "        extract_file(temp_file.name, folder, fileformat)"
   ]
  },
  {
   "cell_type": "code",
   "execution_count": 12,
   "id": "94f3c2ad-1818-403f-9864-7e202341ad71",
   "metadata": {},
   "outputs": [
    {
     "name": "stdout",
     "output_type": "stream",
     "text": [
      "download?datasetVersionNumber=20\n"
     ]
    }
   ],
   "source": [
    "print (filename)"
   ]
  },
  {
   "cell_type": "code",
   "execution_count": 9,
   "id": "c1ab41f3-84eb-4bc6-9975-72cf21fb05ba",
   "metadata": {},
   "outputs": [
    {
     "ename": "ValueError",
     "evalue": "ZipFile requires mode 'r', 'w', 'x', or 'a'",
     "output_type": "error",
     "traceback": [
      "\u001b[0;31m---------------------------------------------------------------------------\u001b[0m",
      "\u001b[0;31mValueError\u001b[0m                                Traceback (most recent call last)",
      "Cell \u001b[0;32mIn[9], line 1\u001b[0m\n\u001b[0;32m----> 1\u001b[0m \u001b[43mdownload_and_unzip\u001b[49m\u001b[43m(\u001b[49m\u001b[38;5;124;43m'\u001b[39;49m\u001b[38;5;124;43mhttps://www.kaggle.com/datasets/guillemservera/global-daily-climate-data/download?datasetVersionNumber=20\u001b[39;49m\u001b[38;5;124;43m'\u001b[39;49m\u001b[43m,\u001b[49m\u001b[43m \u001b[49m\u001b[38;5;124;43m'\u001b[39;49m\u001b[38;5;124;43mglobal-daily-climate-data\u001b[39;49m\u001b[38;5;124;43m'\u001b[39;49m\u001b[43m,\u001b[49m\u001b[43m \u001b[49m\u001b[38;5;28;43mformat\u001b[39;49m\u001b[38;5;241;43m=\u001b[39;49m\u001b[38;5;124;43m'\u001b[39;49m\u001b[38;5;124;43mZIP\u001b[39;49m\u001b[38;5;124;43m'\u001b[39;49m\u001b[43m \u001b[49m\u001b[43m)\u001b[49m\n",
      "Cell \u001b[0;32mIn[8], line 30\u001b[0m, in \u001b[0;36mdownload_and_unzip\u001b[0;34m(url, folder, format)\u001b[0m\n\u001b[1;32m     27\u001b[0m     \u001b[38;5;28;01mraise\u001b[39;00m \u001b[38;5;167;01mValueError\u001b[39;00m(\u001b[38;5;124mf\u001b[39m\u001b[38;5;124m\"\u001b[39m\u001b[38;5;124mUnsupported file format: \u001b[39m\u001b[38;5;132;01m{\u001b[39;00m\u001b[38;5;28mformat\u001b[39m\u001b[38;5;132;01m}\u001b[39;00m\u001b[38;5;124m\"\u001b[39m)\n\u001b[1;32m     29\u001b[0m \u001b[38;5;66;03m# Extract the file\u001b[39;00m\n\u001b[0;32m---> 30\u001b[0m \u001b[38;5;28;01mwith\u001b[39;00m \u001b[43mdecompression_method\u001b[49m\u001b[43m(\u001b[49m\u001b[43mos\u001b[49m\u001b[38;5;241;43m.\u001b[39;49m\u001b[43mpath\u001b[49m\u001b[38;5;241;43m.\u001b[39;49m\u001b[43mjoin\u001b[49m\u001b[43m(\u001b[49m\u001b[43mfolder\u001b[49m\u001b[43m,\u001b[49m\u001b[43m \u001b[49m\u001b[43mfilename\u001b[49m\u001b[43m)\u001b[49m\u001b[43m,\u001b[49m\u001b[43m \u001b[49m\u001b[38;5;124;43m\"\u001b[39;49m\u001b[38;5;124;43mr:bz2\u001b[39;49m\u001b[38;5;124;43m\"\u001b[39;49m\u001b[43m)\u001b[49m \u001b[38;5;28;01mas\u001b[39;00m archive:\n\u001b[1;32m     31\u001b[0m     archive\u001b[38;5;241m.\u001b[39mextractall(folder)\n\u001b[1;32m     33\u001b[0m \u001b[38;5;66;03m# Remove the downloaded file if not needed\u001b[39;00m\n",
      "File \u001b[0;32m~/.pyenv/versions/3.8.5/lib/python3.8/zipfile.py:1223\u001b[0m, in \u001b[0;36mZipFile.__init__\u001b[0;34m(self, file, mode, compression, allowZip64, compresslevel, strict_timestamps)\u001b[0m\n\u001b[1;32m   1220\u001b[0m \u001b[38;5;124;03m\"\"\"Open the ZIP file with mode read 'r', write 'w', exclusive create 'x',\u001b[39;00m\n\u001b[1;32m   1221\u001b[0m \u001b[38;5;124;03mor append 'a'.\"\"\"\u001b[39;00m\n\u001b[1;32m   1222\u001b[0m \u001b[38;5;28;01mif\u001b[39;00m mode \u001b[38;5;129;01mnot\u001b[39;00m \u001b[38;5;129;01min\u001b[39;00m (\u001b[38;5;124m'\u001b[39m\u001b[38;5;124mr\u001b[39m\u001b[38;5;124m'\u001b[39m, \u001b[38;5;124m'\u001b[39m\u001b[38;5;124mw\u001b[39m\u001b[38;5;124m'\u001b[39m, \u001b[38;5;124m'\u001b[39m\u001b[38;5;124mx\u001b[39m\u001b[38;5;124m'\u001b[39m, \u001b[38;5;124m'\u001b[39m\u001b[38;5;124ma\u001b[39m\u001b[38;5;124m'\u001b[39m):\n\u001b[0;32m-> 1223\u001b[0m     \u001b[38;5;28;01mraise\u001b[39;00m \u001b[38;5;167;01mValueError\u001b[39;00m(\u001b[38;5;124m\"\u001b[39m\u001b[38;5;124mZipFile requires mode \u001b[39m\u001b[38;5;124m'\u001b[39m\u001b[38;5;124mr\u001b[39m\u001b[38;5;124m'\u001b[39m\u001b[38;5;124m, \u001b[39m\u001b[38;5;124m'\u001b[39m\u001b[38;5;124mw\u001b[39m\u001b[38;5;124m'\u001b[39m\u001b[38;5;124m, \u001b[39m\u001b[38;5;124m'\u001b[39m\u001b[38;5;124mx\u001b[39m\u001b[38;5;124m'\u001b[39m\u001b[38;5;124m, or \u001b[39m\u001b[38;5;124m'\u001b[39m\u001b[38;5;124ma\u001b[39m\u001b[38;5;124m'\u001b[39m\u001b[38;5;124m\"\u001b[39m)\n\u001b[1;32m   1225\u001b[0m _check_compression(compression)\n\u001b[1;32m   1227\u001b[0m \u001b[38;5;28mself\u001b[39m\u001b[38;5;241m.\u001b[39m_allowZip64 \u001b[38;5;241m=\u001b[39m allowZip64\n",
      "\u001b[0;31mValueError\u001b[0m: ZipFile requires mode 'r', 'w', 'x', or 'a'"
     ]
    }
   ],
   "source": [
    "download_and_unzip('https://www.kaggle.com/datasets/guillemservera/global-daily-climate-data/download?datasetVersionNumber=20', 'global-daily-climate-data', format='ZIP' )"
   ]
  },
  {
   "cell_type": "code",
   "execution_count": null,
   "id": "73cb64f7-c92d-470a-a485-39f339c2d61a",
   "metadata": {},
   "outputs": [],
   "source": [
    "# Read datasets as pandas df\n",
    "df_countries = pd.read_csv(\"/kaggle/input/global-daily-climate-data/countries.csv\")\n",
    "df_weather = pd.read_csv(\"/kaggle/input/global-daily-climate-data/weather.csv\")\n",
    "\n",
    "# Date column to datetime\n",
    "df_weather['date'] = pd.to_datetime(df_weather['date'])"
   ]
  },
  {
   "cell_type": "code",
   "execution_count": null,
   "id": "936d2014-bee5-4499-9cb7-5949185ddb84",
   "metadata": {},
   "outputs": [],
   "source": [
    "box_avg_temp = go.Box(\n",
    "    y=df_weather_spain['avg_temp_c'],\n",
    "    x=df_weather_spain['season'],\n",
    "    name='Avg Temperature',\n",
    "    marker=dict(color='orange')\n",
    ")\n",
    "\n",
    "box_min_temp = go.Box(\n",
    "    y=df_weather_spain['min_temp_c'],\n",
    "    x=df_weather_spain['season'],\n",
    "    name='Min Temperature',\n",
    "    marker=dict(color='blue')\n",
    ")\n",
    "\n",
    "box_max_temp = go.Box(\n",
    "    y=df_weather_spain['max_temp_c'],\n",
    "    x=df_weather_spain['season'],\n",
    "    name='Max Temperature',\n",
    "    marker=dict(color='red')\n",
    ")\n",
    "\n",
    "layout = go.Layout(\n",
    "    title='Temperature Distribution by Season in Madrid (Spain)',\n",
    "    xaxis=dict(title='Season'),\n",
    "    yaxis=dict(title='Temperature (°C)')\n",
    ")\n",
    "\n",
    "fig = go.Figure(data=[box_avg_temp, box_min_temp, box_max_temp], layout=layout)\n",
    "iplot(fig)\n"
   ]
  }
 ],
 "metadata": {
  "kernelspec": {
   "display_name": "Python 3 (ipykernel)",
   "language": "python",
   "name": "python3"
  },
  "language_info": {
   "codemirror_mode": {
    "name": "ipython",
    "version": 3
   },
   "file_extension": ".py",
   "mimetype": "text/x-python",
   "name": "python",
   "nbconvert_exporter": "python",
   "pygments_lexer": "ipython3",
   "version": "3.8.5"
  }
 },
 "nbformat": 4,
 "nbformat_minor": 5
}
